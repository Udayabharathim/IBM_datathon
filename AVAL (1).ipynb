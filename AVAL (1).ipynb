{
 "cells": [
  {
   "cell_type": "code",
   "execution_count": null,
   "id": "9bf53d3c-d068-475c-8c7f-eaf3f9a72744",
   "metadata": {},
   "outputs": [],
   "source": [
    "pip install tabulate"
   ]
  },
  {
   "cell_type": "code",
   "execution_count": null,
   "id": "a3d6ac0b-9088-4fdc-a718-7b0f1751f324",
   "metadata": {},
   "outputs": [],
   "source": []
  },
  {
   "cell_type": "code",
   "execution_count": 1,
   "id": "180f6a42-e478-4124-8c65-4cbe604b3f20",
   "metadata": {
    "editable": true,
    "slideshow": {
     "slide_type": ""
    },
    "tags": []
   },
   "outputs": [
    {
     "name": "stdout",
     "output_type": "stream",
     "text": [
      "Model Accuracy: 0.9354838709677419\n",
      "              precision    recall  f1-score   support\n",
      "\n",
      "         0.0       0.95      0.97      0.96        80\n",
      "         1.0       0.82      0.69      0.75        13\n",
      "\n",
      "    accuracy                           0.94        93\n",
      "   macro avg       0.88      0.83      0.86        93\n",
      "weighted avg       0.93      0.94      0.93        93\n",
      "\n",
      "Welcome to the PCOS detection chatbot!\n",
      "\n",
      "You can enter your request (e.g., 'predict PCOS', 'get diet and exercise recommendations', or 'quit').\n"
     ]
    },
    {
     "name": "stdin",
     "output_type": "stream",
     "text": [
      "\n",
      "What would you like to do?  Can you predict pcos for me?\n"
     ]
    },
    {
     "name": "stdout",
     "output_type": "stream",
     "text": [
      "\n",
      "Please answer the following questions for PCOS prediction:\n"
     ]
    },
    {
     "name": "stdin",
     "output_type": "stream",
     "text": [
      "Enter value for Age (in Years) (numeric input expected):  20\n",
      "Enter value for Weight (in Kg) (numeric input expected):  64\n",
      "Enter value for Height (in Cm / Feet) (numeric input expected):  153\n",
      "Enter your blood group (e.g., A+, O-):  O+\n",
      "Enter value for After how many months do you get your periods?\n",
      "(select 1- if every month/regular) (numeric input expected):  2\n",
      "Enter value for Have you gained weight recently? (numeric input expected):  0\n",
      "Enter value for Do you have excessive body/facial hair growth ? (numeric input expected):  0\n",
      "Enter value for Are you noticing skin darkening recently? (numeric input expected):  1\n",
      "Enter value for Do have hair loss/hair thinning/baldness ? (numeric input expected):  1\n",
      "Enter value for Do you have pimples/acne on your face/jawline ? (numeric input expected):  0\n",
      "Enter value for Do you eat fast food regularly ? (numeric input expected):  1\n",
      "Enter value for Do you exercise on a regular basis ? (numeric input expected):  0\n",
      "Enter value for Do you experience mood swings ? (numeric input expected):  1\n",
      "Enter value for Are your periods regular ? (numeric input expected):  0\n",
      "Enter value for How long does your period last ? (in Days)\n",
      "example- 1,2,3,4..... (numeric input expected):  5\n"
     ]
    },
    {
     "name": "stderr",
     "output_type": "stream",
     "text": [
      "/home/jovyan/.local/lib/python3.10/site-packages/sklearn/base.py:493: UserWarning: X does not have valid feature names, but StandardScaler was fitted with feature names\n",
      "  warnings.warn(\n"
     ]
    },
    {
     "name": "stdout",
     "output_type": "stream",
     "text": [
      "\n",
      "The chatbot predicts that you might have PCOS.\n",
      "\n",
      "You can enter your request (e.g., 'predict PCOS', 'get diet and exercise recommendations', or 'quit').\n"
     ]
    },
    {
     "name": "stdin",
     "output_type": "stream",
     "text": [
      "\n",
      "What would you like to do?  Can you give some recommendation for me?\n"
     ]
    },
    {
     "name": "stdout",
     "output_type": "stream",
     "text": [
      "\n",
      "Let's collect more information for a personalized lifestyle plan.\n"
     ]
    },
    {
     "name": "stdin",
     "output_type": "stream",
     "text": [
      "Do you usually have a busy morning schedule? (yes/no):  yes\n",
      "On average, how many hours do you spend at work or school each day? (0-12):  8\n",
      "How often do you exercise each week? (never/1-2 times/3-5 times/daily):  never\n",
      "Do you prefer high-intensity or low-intensity exercises? (high/low):  low\n",
      "When do you prefer to exercise? (morning/evening/both):  both\n",
      "How much time can you dedicate to each exercise session? (in minutes):  30\n"
     ]
    },
    {
     "name": "stdout",
     "output_type": "stream",
     "text": [
      "\n",
      "--- Personalized Weekly Diet Plan ---\n",
      "+-----------+---------------------------------+-----------------------------------+-------------------+\n",
      "| Days      | Breakfast                       | Lunch                             | Dinner            |\n",
      "+===========+=================================+===================================+===================+\n",
      "| Sunday    | Hibiscus Tea                    | Hibiscus Tea                      | Pongal            |\n",
      "+-----------+---------------------------------+-----------------------------------+-------------------+\n",
      "| Monday    | Chia Seed Pudding with Berries  | Sambar                            | Vegetable Sambar  |\n",
      "+-----------+---------------------------------+-----------------------------------+-------------------+\n",
      "| Tuesday   | Lentil Soup                     | Palak Dal                         | Green Smoothie    |\n",
      "+-----------+---------------------------------+-----------------------------------+-------------------+\n",
      "| Wednesday | Sweet Potato and Chickpea Curry | Turmeric Ginger Tea               | Ragi Malt         |\n",
      "+-----------+---------------------------------+-----------------------------------+-------------------+\n",
      "| Thursday  | Masoor Dal (Red Lentil Soup)    | Kootu (Vegetable and Lentil Stew) | Jowar/Millet Upma |\n",
      "+-----------+---------------------------------+-----------------------------------+-------------------+\n",
      "| Friday    | Granola Bake                    | Millet Pongal                     | Curd Rice         |\n",
      "+-----------+---------------------------------+-----------------------------------+-------------------+\n",
      "| Saturday  | Upma                            | Caprese Salad                     | Cabbage Poriyal   |\n",
      "+-----------+---------------------------------+-----------------------------------+-------------------+\n",
      "\n",
      "--- Personalized Weekly Exercise Plan ---\n",
      "+-----------+-----------------------+---------------------+\n",
      "| Days      | Morning Exercise      | Evening Exercise    |\n",
      "+===========+=======================+=====================+\n",
      "| Sunday    | Boat Pose (Yoga)      | Kettlebell Swings   |\n",
      "+-----------+-----------------------+---------------------+\n",
      "| Monday    | Marjariasana          | T-Stabilization     |\n",
      "+-----------+-----------------------+---------------------+\n",
      "| Tuesday   | Hanging Leg Raise     | Baddha Konasana     |\n",
      "+-----------+-----------------------+---------------------+\n",
      "| Wednesday | Superman Hold         | Setu Bandhasana     |\n",
      "+-----------+-----------------------+---------------------+\n",
      "| Thursday  | Stair Climbing        | Glute Bridge        |\n",
      "+-----------+-----------------------+---------------------+\n",
      "| Friday    | Supta Baddha Konasana | Plank with Hip Dips |\n",
      "+-----------+-----------------------+---------------------+\n",
      "| Saturday  | Rowing Machine        | Bodyweight Squats   |\n",
      "+-----------+-----------------------+---------------------+\n",
      "\n",
      "Please follow the meal and exercise plans to manage PCOS effectively.\n",
      "\n",
      "You can enter your request (e.g., 'predict PCOS', 'get diet and exercise recommendations', or 'quit').\n"
     ]
    },
    {
     "name": "stdin",
     "output_type": "stream",
     "text": [
      "\n",
      "What would you like to do?  quit\n"
     ]
    },
    {
     "name": "stdout",
     "output_type": "stream",
     "text": [
      "\n",
      "Thank you for using the PCOS chatbot. Goodbye!\n"
     ]
    }
   ],
   "source": [
    "import pandas as pd\n",
    "import random\n",
    "from sklearn.model_selection import train_test_split\n",
    "from sklearn.preprocessing import StandardScaler\n",
    "from sklearn.impute import SimpleImputer\n",
    "from sklearn.ensemble import RandomForestClassifier\n",
    "from sklearn.metrics import accuracy_score, classification_report\n",
    "from tabulate import tabulate\n",
    "\n",
    "# Load the datasets\n",
    "data_path = 'CLEAN- PCOS SURVEY SPREADSHEET.csv'\n",
    "df = pd.read_csv(data_path)\n",
    "\n",
    "recipes_path = 'recipes.csv - Sheet1.csv'\n",
    "recipes_df = pd.read_csv(recipes_path, encoding='latin-1')\n",
    "\n",
    "exercise_path = 'exercise.csv - sheet1.csv'\n",
    "exercise_df = pd.read_csv(exercise_path, encoding='latin-1')\n",
    "\n",
    "# Fill missing values\n",
    "imputer = SimpleImputer(strategy='mean')\n",
    "df_imputed = pd.DataFrame(imputer.fit_transform(df), columns=df.columns)\n",
    "\n",
    "# Define target column and features\n",
    "target_column = 'Have you been diagnosed with PCOS/PCOD?'  # Adjust this as needed\n",
    "X = df_imputed.drop(columns=[target_column])\n",
    "y = df_imputed[target_column]\n",
    "\n",
    "# Train-test split\n",
    "X_train, X_test, y_train, y_test = train_test_split(X, y, test_size=0.2, random_state=42)\n",
    "scaler = StandardScaler()\n",
    "X_train_scaled = scaler.fit_transform(X_train)\n",
    "X_test_scaled = scaler.transform(X_test)\n",
    "\n",
    "# Train the model\n",
    "model = RandomForestClassifier(n_estimators=100, random_state=42)\n",
    "model.fit(X_train_scaled, y_train)\n",
    "y_pred = model.predict(X_test_scaled)\n",
    "\n",
    "# Evaluate the model\n",
    "accuracy = accuracy_score(y_test, y_pred)\n",
    "print(f\"Model Accuracy: {accuracy}\")\n",
    "print(classification_report(y_test, y_pred))\n",
    "\n",
    "def generate_diet_and_exercise_plan():\n",
    "    days = [\"Sunday\", \"Monday\", \"Tuesday\", \"Wednesday\", \"Thursday\", \"Friday\", \"Saturday\"]\n",
    "    meals = [\"Breakfast\", \"Lunch\", \"Dinner\"]\n",
    "\n",
    "    diet_table_data = [[\"Days\", \"Breakfast\", \"Lunch\", \"Dinner\"]]\n",
    "    exercise_table_data = [[\"Days\", \"Morning Exercise\", \"Evening Exercise\"]]\n",
    "\n",
    "    recipe_name_column = recipes_df.columns[0]\n",
    "    exercise_name_column = exercise_df.columns[0]\n",
    "\n",
    "    for day in days:\n",
    "        diet_row = [day]\n",
    "        for meal in meals:\n",
    "            recipe = recipes_df.sample(1)\n",
    "            diet_row.append(recipe[recipe_name_column].values[0])\n",
    "        diet_table_data.append(diet_row)\n",
    "\n",
    "        exercise_row = [day]\n",
    "        morning_exercise = exercise_df.sample(1)\n",
    "        evening_exercise = exercise_df.sample(1)\n",
    "        exercise_row.extend([morning_exercise[exercise_name_column].values[0], evening_exercise[exercise_name_column].values[0]])\n",
    "        exercise_table_data.append(exercise_row)\n",
    "\n",
    "    print(\"\\n--- Personalized Weekly Diet Plan ---\")\n",
    "    print(tabulate(diet_table_data, headers=\"firstrow\", tablefmt=\"grid\"))\n",
    "    print(\"\\n--- Personalized Weekly Exercise Plan ---\")\n",
    "    print(tabulate(exercise_table_data, headers=\"firstrow\", tablefmt=\"grid\"))\n",
    "    print(\"\\nPlease follow the meal and exercise plans to manage PCOS effectively.\")\n",
    "\n",
    "def pcos_chatbot():\n",
    "    print(\"Welcome to the PCOS detection chatbot!\")\n",
    "    \n",
    "    while True:\n",
    "        print(\"\\nYou can enter your request (e.g., 'predict PCOS', 'get diet and exercise recommendations', or 'quit').\")\n",
    "        \n",
    "        user_input = input(\"\\nWhat would you like to do? \").strip().lower()\n",
    "\n",
    "        # Check for PCOS prediction keywords\n",
    "        if \"predict\" in user_input or \"diagnosis\" in user_input:\n",
    "            print(\"\\nPlease answer the following questions for PCOS prediction:\")\n",
    "            user_data = []\n",
    "            blood_group_mapping = {\n",
    "                'A+': 11, 'A-': 12,\n",
    "                'B+': 13, 'B-': 14,\n",
    "                'O+': 15, 'O-': 16,\n",
    "                'AB+': 17, 'AB-': 18\n",
    "            }\n",
    "\n",
    "            for feature in X.columns:\n",
    "                if 'blood group' in feature.lower():\n",
    "                    while True:\n",
    "                        blood_group = input(\"Enter your blood group (e.g., A+, O-): \").upper()\n",
    "                        if blood_group in blood_group_mapping:\n",
    "                            value = blood_group_mapping[blood_group]\n",
    "                            break\n",
    "                        else:\n",
    "                            print(\"Invalid blood group entered. Please try again.\")\n",
    "                else:\n",
    "                    while True:\n",
    "                        try:\n",
    "                            value = float(input(f\"Enter value for {feature} (numeric input expected): \"))\n",
    "                            break\n",
    "                        except ValueError:\n",
    "                            print(\"Invalid input. Please enter a numeric value.\")\n",
    "                user_data.append(value)\n",
    "\n",
    "            # Make prediction\n",
    "            user_data_scaled = scaler.transform([user_data])\n",
    "            prediction = model.predict(user_data_scaled)\n",
    "\n",
    "            if prediction == 1:\n",
    "                print(\"\\nThe chatbot predicts that you might have PCOS.\")\n",
    "            else:\n",
    "                print(\"\\nThe chatbot predicts that you likely do not have PCOS. However, consult a doctor if you have concerns.\")\n",
    "\n",
    "        # Check for recommendation keywords\n",
    "        elif \"recommendation\" in user_input or \"recommend\" in user_input:\n",
    "            print(\"\\nLet's collect more information for a personalized lifestyle plan.\")\n",
    "            busy_morning = input(\"Do you usually have a busy morning schedule? (yes/no): \").strip().lower()\n",
    "            work_hours = int(input(\"On average, how many hours do you spend at work or school each day? (0-12): \").strip())\n",
    "            exercise_freq = input(\"How often do you exercise each week? (never/1-2 times/3-5 times/daily): \").strip().lower()\n",
    "            preferred_exercise_type = input(\"Do you prefer high-intensity or low-intensity exercises? (high/low): \").strip().lower()\n",
    "            time_of_day_exercise = input(\"When do you prefer to exercise? (morning/evening/both): \").strip().lower()\n",
    "            exercise_duration = int(input(\"How much time can you dedicate to each exercise session? (in minutes): \").strip())\n",
    "\n",
    "            generate_diet_and_exercise_plan()\n",
    "\n",
    "        # Exit the chatbot\n",
    "        elif \"quit\" in user_input:\n",
    "            print(\"\\nThank you for using the PCOS chatbot. Goodbye!\")\n",
    "            break\n",
    "\n",
    "        else:\n",
    "            print(\"\\nInvalid input. Please enter a valid command (e.g., 'predict PCOS', 'get diet and exercise recommendations', or 'quit').\")\n",
    "\n",
    "# Run the chatbot\n",
    "pcos_chatbot()"
   ]
  },
  {
   "cell_type": "code",
   "execution_count": 2,
   "id": "9d1f43e6-f1d4-4a3e-bb70-d23d22a2c411",
   "metadata": {},
   "outputs": [
    {
     "data": {
      "text/html": [
       "<pre style=\"white-space:pre;overflow-x:auto;line-height:normal;font-family:Menlo,'DejaVu Sans Mono',consolas,'Courier New',monospace\"><span style=\"color: #008000; text-decoration-color: #008000; font-weight: bold\">Model Accuracy: </span><span style=\"color: #008000; text-decoration-color: #008000; font-weight: bold\">93.55</span><span style=\"color: #008000; text-decoration-color: #008000; font-weight: bold\">%</span>\n",
       "</pre>\n"
      ],
      "text/plain": [
       "\u001b[1;32mModel Accuracy: \u001b[0m\u001b[1;32m93.55\u001b[0m\u001b[1;32m%\u001b[0m\n"
      ]
     },
     "metadata": {},
     "output_type": "display_data"
    },
    {
     "data": {
      "text/html": [
       "<pre style=\"white-space:pre;overflow-x:auto;line-height:normal;font-family:Menlo,'DejaVu Sans Mono',consolas,'Courier New',monospace\"><span style=\"color: #808000; text-decoration-color: #808000; font-weight: bold\">              precision    recall  f1-score   support</span>\n",
       "\n",
       "<span style=\"color: #808000; text-decoration-color: #808000; font-weight: bold\">         </span><span style=\"color: #808000; text-decoration-color: #808000; font-weight: bold\">0.0</span><span style=\"color: #808000; text-decoration-color: #808000; font-weight: bold\">       </span><span style=\"color: #808000; text-decoration-color: #808000; font-weight: bold\">0.95</span><span style=\"color: #808000; text-decoration-color: #808000; font-weight: bold\">      </span><span style=\"color: #808000; text-decoration-color: #808000; font-weight: bold\">0.97</span><span style=\"color: #808000; text-decoration-color: #808000; font-weight: bold\">      </span><span style=\"color: #808000; text-decoration-color: #808000; font-weight: bold\">0.96</span><span style=\"color: #808000; text-decoration-color: #808000; font-weight: bold\">        </span><span style=\"color: #808000; text-decoration-color: #808000; font-weight: bold\">80</span>\n",
       "<span style=\"color: #808000; text-decoration-color: #808000; font-weight: bold\">         </span><span style=\"color: #808000; text-decoration-color: #808000; font-weight: bold\">1.0</span><span style=\"color: #808000; text-decoration-color: #808000; font-weight: bold\">       </span><span style=\"color: #808000; text-decoration-color: #808000; font-weight: bold\">0.82</span><span style=\"color: #808000; text-decoration-color: #808000; font-weight: bold\">      </span><span style=\"color: #808000; text-decoration-color: #808000; font-weight: bold\">0.69</span><span style=\"color: #808000; text-decoration-color: #808000; font-weight: bold\">      </span><span style=\"color: #808000; text-decoration-color: #808000; font-weight: bold\">0.75</span><span style=\"color: #808000; text-decoration-color: #808000; font-weight: bold\">        </span><span style=\"color: #808000; text-decoration-color: #808000; font-weight: bold\">13</span>\n",
       "\n",
       "<span style=\"color: #808000; text-decoration-color: #808000; font-weight: bold\">    accuracy                           </span><span style=\"color: #808000; text-decoration-color: #808000; font-weight: bold\">0.94</span><span style=\"color: #808000; text-decoration-color: #808000; font-weight: bold\">        </span><span style=\"color: #808000; text-decoration-color: #808000; font-weight: bold\">93</span>\n",
       "<span style=\"color: #808000; text-decoration-color: #808000; font-weight: bold\">   macro avg       </span><span style=\"color: #808000; text-decoration-color: #808000; font-weight: bold\">0.88</span><span style=\"color: #808000; text-decoration-color: #808000; font-weight: bold\">      </span><span style=\"color: #808000; text-decoration-color: #808000; font-weight: bold\">0.83</span><span style=\"color: #808000; text-decoration-color: #808000; font-weight: bold\">      </span><span style=\"color: #808000; text-decoration-color: #808000; font-weight: bold\">0.86</span><span style=\"color: #808000; text-decoration-color: #808000; font-weight: bold\">        </span><span style=\"color: #808000; text-decoration-color: #808000; font-weight: bold\">93</span>\n",
       "<span style=\"color: #808000; text-decoration-color: #808000; font-weight: bold\">weighted avg       </span><span style=\"color: #808000; text-decoration-color: #808000; font-weight: bold\">0.93</span><span style=\"color: #808000; text-decoration-color: #808000; font-weight: bold\">      </span><span style=\"color: #808000; text-decoration-color: #808000; font-weight: bold\">0.94</span><span style=\"color: #808000; text-decoration-color: #808000; font-weight: bold\">      </span><span style=\"color: #808000; text-decoration-color: #808000; font-weight: bold\">0.93</span><span style=\"color: #808000; text-decoration-color: #808000; font-weight: bold\">        </span><span style=\"color: #808000; text-decoration-color: #808000; font-weight: bold\">93</span>\n",
       "\n",
       "</pre>\n"
      ],
      "text/plain": [
       "\u001b[1;33m              precision    recall  f1-score   support\u001b[0m\n",
       "\n",
       "\u001b[1;33m         \u001b[0m\u001b[1;33m0.0\u001b[0m\u001b[1;33m       \u001b[0m\u001b[1;33m0.95\u001b[0m\u001b[1;33m      \u001b[0m\u001b[1;33m0.97\u001b[0m\u001b[1;33m      \u001b[0m\u001b[1;33m0.96\u001b[0m\u001b[1;33m        \u001b[0m\u001b[1;33m80\u001b[0m\n",
       "\u001b[1;33m         \u001b[0m\u001b[1;33m1.0\u001b[0m\u001b[1;33m       \u001b[0m\u001b[1;33m0.82\u001b[0m\u001b[1;33m      \u001b[0m\u001b[1;33m0.69\u001b[0m\u001b[1;33m      \u001b[0m\u001b[1;33m0.75\u001b[0m\u001b[1;33m        \u001b[0m\u001b[1;33m13\u001b[0m\n",
       "\n",
       "\u001b[1;33m    accuracy                           \u001b[0m\u001b[1;33m0.94\u001b[0m\u001b[1;33m        \u001b[0m\u001b[1;33m93\u001b[0m\n",
       "\u001b[1;33m   macro avg       \u001b[0m\u001b[1;33m0.88\u001b[0m\u001b[1;33m      \u001b[0m\u001b[1;33m0.83\u001b[0m\u001b[1;33m      \u001b[0m\u001b[1;33m0.86\u001b[0m\u001b[1;33m        \u001b[0m\u001b[1;33m93\u001b[0m\n",
       "\u001b[1;33mweighted avg       \u001b[0m\u001b[1;33m0.93\u001b[0m\u001b[1;33m      \u001b[0m\u001b[1;33m0.94\u001b[0m\u001b[1;33m      \u001b[0m\u001b[1;33m0.93\u001b[0m\u001b[1;33m        \u001b[0m\u001b[1;33m93\u001b[0m\n",
       "\n"
      ]
     },
     "metadata": {},
     "output_type": "display_data"
    },
    {
     "data": {
      "text/html": [
       "<pre style=\"white-space:pre;overflow-x:auto;line-height:normal;font-family:Menlo,'DejaVu Sans Mono',consolas,'Courier New',monospace\"><span style=\"color: #808000; text-decoration-color: #808000; font-weight: bold\">Welcome to the PCOS detection chatbot!</span>\n",
       "</pre>\n"
      ],
      "text/plain": [
       "\u001b[1;33mWelcome to the PCOS detection chatbot!\u001b[0m\n"
      ]
     },
     "metadata": {},
     "output_type": "display_data"
    },
    {
     "data": {
      "text/html": [
       "<pre style=\"white-space:pre;overflow-x:auto;line-height:normal;font-family:Menlo,'DejaVu Sans Mono',consolas,'Courier New',monospace\">\n",
       "<span style=\"color: #008080; text-decoration-color: #008080; font-weight: bold\">You can enter your request (e.g., </span><span style=\"color: #008080; text-decoration-color: #008080; font-weight: bold\">'predict PCOS'</span><span style=\"color: #008080; text-decoration-color: #008080; font-weight: bold\">, </span><span style=\"color: #008080; text-decoration-color: #008080; font-weight: bold\">'get diet and exercise recommendations'</span><span style=\"color: #008080; text-decoration-color: #008080; font-weight: bold\">, or </span><span style=\"color: #008080; text-decoration-color: #008080; font-weight: bold\">'quit'</span><span style=\"color: #008080; text-decoration-color: #008080; font-weight: bold\">).</span>\n",
       "</pre>\n"
      ],
      "text/plain": [
       "\n",
       "\u001b[1;36mYou can enter your request \u001b[0m\u001b[1;36m(\u001b[0m\u001b[1;36me.g., \u001b[0m\u001b[1;36m'predict PCOS'\u001b[0m\u001b[1;36m, \u001b[0m\u001b[1;36m'get diet and exercise recommendations'\u001b[0m\u001b[1;36m, or \u001b[0m\u001b[1;36m'quit'\u001b[0m\u001b[1;36m)\u001b[0m\u001b[1;36m.\u001b[0m\n"
      ]
     },
     "metadata": {},
     "output_type": "display_data"
    },
    {
     "name": "stdin",
     "output_type": "stream",
     "text": [
      "\n",
      "What would you like to do?  predict PCOS', 'get diet and exercise recommendations\n"
     ]
    },
    {
     "data": {
      "text/html": [
       "<pre style=\"white-space:pre;overflow-x:auto;line-height:normal;font-family:Menlo,'DejaVu Sans Mono',consolas,'Courier New',monospace\">\n",
       "<span style=\"color: #800080; text-decoration-color: #800080; font-weight: bold\">Please answer the following questions for PCOS prediction:</span>\n",
       "</pre>\n"
      ],
      "text/plain": [
       "\n",
       "\u001b[1;35mPlease answer the following questions for PCOS prediction:\u001b[0m\n"
      ]
     },
     "metadata": {},
     "output_type": "display_data"
    },
    {
     "name": "stdin",
     "output_type": "stream",
     "text": [
      "Enter value for Age (in Years) (numeric input expected):  19\n",
      "Enter value for Weight (in Kg) (numeric input expected):  55\n",
      "Enter value for Height (in Cm / Feet) (numeric input expected):  153\n",
      "Enter your blood group (e.g., A+, O-):  B+\n",
      "Enter value for After how many months do you get your periods?\n",
      "(select 1- if every month/regular) (numeric input expected):  1\n",
      "Enter value for Have you gained weight recently? (numeric input expected):  1\n",
      "Enter value for Do you have excessive body/facial hair growth ? (numeric input expected):  1\n",
      "Enter value for Are you noticing skin darkening recently? (numeric input expected):  1\n",
      "Enter value for Do have hair loss/hair thinning/baldness ? (numeric input expected):  1\n",
      "Enter value for Do you have pimples/acne on your face/jawline ? (numeric input expected):  1\n",
      "Enter value for Do you eat fast food regularly ? (numeric input expected):  0\n",
      "Enter value for Do you exercise on a regular basis ? (numeric input expected):  0\n",
      "Enter value for Do you experience mood swings ? (numeric input expected):  1\n",
      "Enter value for Are your periods regular ? (numeric input expected):  1\n",
      "Enter value for How long does your period last ? (in Days)\n",
      "example- 1,2,3,4..... (numeric input expected):  2\n"
     ]
    },
    {
     "name": "stderr",
     "output_type": "stream",
     "text": [
      "/home/jovyan/.local/lib/python3.10/site-packages/sklearn/base.py:493: UserWarning: X does not have valid feature names, but StandardScaler was fitted with feature names\n",
      "  warnings.warn(\n"
     ]
    },
    {
     "data": {
      "text/html": [
       "<pre style=\"white-space:pre;overflow-x:auto;line-height:normal;font-family:Menlo,'DejaVu Sans Mono',consolas,'Courier New',monospace\">\n",
       "<span style=\"color: #008000; text-decoration-color: #008000; font-weight: bold\">The chatbot predicts that you likely do not have PCOS. However, consult a doctor if you have concerns.</span>\n",
       "</pre>\n"
      ],
      "text/plain": [
       "\n",
       "\u001b[1;32mThe chatbot predicts that you likely do not have PCOS. However, consult a doctor if you have concerns.\u001b[0m\n"
      ]
     },
     "metadata": {},
     "output_type": "display_data"
    },
    {
     "data": {
      "text/html": [
       "<pre style=\"white-space:pre;overflow-x:auto;line-height:normal;font-family:Menlo,'DejaVu Sans Mono',consolas,'Courier New',monospace\">\n",
       "<span style=\"color: #008080; text-decoration-color: #008080; font-weight: bold\">You can enter your request (e.g., </span><span style=\"color: #008080; text-decoration-color: #008080; font-weight: bold\">'predict PCOS'</span><span style=\"color: #008080; text-decoration-color: #008080; font-weight: bold\">, </span><span style=\"color: #008080; text-decoration-color: #008080; font-weight: bold\">'get diet and exercise recommendations'</span><span style=\"color: #008080; text-decoration-color: #008080; font-weight: bold\">, or </span><span style=\"color: #008080; text-decoration-color: #008080; font-weight: bold\">'quit'</span><span style=\"color: #008080; text-decoration-color: #008080; font-weight: bold\">).</span>\n",
       "</pre>\n"
      ],
      "text/plain": [
       "\n",
       "\u001b[1;36mYou can enter your request \u001b[0m\u001b[1;36m(\u001b[0m\u001b[1;36me.g., \u001b[0m\u001b[1;36m'predict PCOS'\u001b[0m\u001b[1;36m, \u001b[0m\u001b[1;36m'get diet and exercise recommendations'\u001b[0m\u001b[1;36m, or \u001b[0m\u001b[1;36m'quit'\u001b[0m\u001b[1;36m)\u001b[0m\u001b[1;36m.\u001b[0m\n"
      ]
     },
     "metadata": {},
     "output_type": "display_data"
    },
    {
     "name": "stdin",
     "output_type": "stream",
     "text": [
      "\n",
      "What would you like to do?  quit\n"
     ]
    },
    {
     "data": {
      "text/html": [
       "<pre style=\"white-space:pre;overflow-x:auto;line-height:normal;font-family:Menlo,'DejaVu Sans Mono',consolas,'Courier New',monospace\">\n",
       "<span style=\"color: #008080; text-decoration-color: #008080; font-weight: bold\">Thank you for using the PCOS chatbot. Goodbye!</span>\n",
       "</pre>\n"
      ],
      "text/plain": [
       "\n",
       "\u001b[1;36mThank you for using the PCOS chatbot. Goodbye!\u001b[0m\n"
      ]
     },
     "metadata": {},
     "output_type": "display_data"
    }
   ],
   "source": [
    "import pandas as pd\n",
    "import random\n",
    "import re\n",
    "from sklearn.model_selection import train_test_split\n",
    "from sklearn.preprocessing import StandardScaler\n",
    "from sklearn.impute import SimpleImputer\n",
    "from sklearn.ensemble import RandomForestClassifier\n",
    "from sklearn.metrics import accuracy_score, classification_report\n",
    "from tabulate import tabulate\n",
    "from rich.console import Console\n",
    "from rich.table import Table\n",
    "from rich import box\n",
    "from rich.panel import Panel\n",
    "from rich.text import Text\n",
    "\n",
    "# Console for rich printing\n",
    "console = Console()\n",
    "\n",
    "# Load the datasets\n",
    "data_path = 'CLEAN- PCOS SURVEY SPREADSHEET.csv'\n",
    "df = pd.read_csv(data_path)\n",
    "\n",
    "recipes_path = 'recipes.csv - Sheet1.csv'\n",
    "recipes_df = pd.read_csv(recipes_path, encoding='latin-1')\n",
    "\n",
    "exercise_path = 'exercise.csv - sheet1.csv'\n",
    "exercise_df = pd.read_csv(exercise_path, encoding='latin-1')\n",
    "\n",
    "# Fill missing values\n",
    "imputer = SimpleImputer(strategy='mean')\n",
    "df_imputed = pd.DataFrame(imputer.fit_transform(df), columns=df.columns)\n",
    "\n",
    "# Define target column and features\n",
    "target_column = 'Have you been diagnosed with PCOS/PCOD?'  # Adjust this as needed\n",
    "X = df_imputed.drop(columns=[target_column])\n",
    "y = df_imputed[target_column]\n",
    "\n",
    "# Train-test split\n",
    "X_train, X_test, y_train, y_test = train_test_split(X, y, test_size=0.2, random_state=42)\n",
    "scaler = StandardScaler()\n",
    "X_train_scaled = scaler.fit_transform(X_train)\n",
    "X_test_scaled = scaler.transform(X_test)\n",
    "\n",
    "# Train the model\n",
    "model = RandomForestClassifier(n_estimators=100, random_state=42)\n",
    "model.fit(X_train_scaled, y_train)\n",
    "y_pred = model.predict(X_test_scaled)\n",
    "\n",
    "# Evaluate the model\n",
    "accuracy = accuracy_score(y_test, y_pred)\n",
    "console.print(f\"[bold green]Model Accuracy: {accuracy * 100:.2f}%[/bold green]\")\n",
    "console.print(f\"[bold yellow]{classification_report(y_test, y_pred)}[/bold yellow]\")\n",
    "\n",
    "def generate_diet_and_exercise_plan():\n",
    "    days = [\"Sunday\", \"Monday\", \"Tuesday\", \"Wednesday\", \"Thursday\", \"Friday\", \"Saturday\"]\n",
    "    meals = [\"Breakfast\", \"Lunch\", \"Dinner\"]\n",
    "\n",
    "    # Create rich tables for diet and exercise\n",
    "    diet_table = Table(title=\"Personalized Weekly Diet Plan\", box=box.ROUNDED)\n",
    "    exercise_table = Table(title=\"Personalized Weekly Exercise Plan\", box=box.ROUNDED)\n",
    "    \n",
    "    # Add columns to diet table\n",
    "    diet_table.add_column(\"Days\", justify=\"center\", style=\"cyan\", no_wrap=True)\n",
    "    diet_table.add_column(\"Breakfast\", justify=\"center\", style=\"magenta\")\n",
    "    diet_table.add_column(\"Lunch\", justify=\"center\", style=\"magenta\")\n",
    "    diet_table.add_column(\"Dinner\", justify=\"center\", style=\"magenta\")\n",
    "\n",
    "    # Add columns to exercise table\n",
    "    exercise_table.add_column(\"Days\", justify=\"center\", style=\"cyan\", no_wrap=True)\n",
    "    exercise_table.add_column(\"Morning Exercise\", justify=\"center\", style=\"green\")\n",
    "    exercise_table.add_column(\"Evening Exercise\", justify=\"center\", style=\"green\")\n",
    "\n",
    "    recipe_name_column = recipes_df.columns[0]\n",
    "    exercise_name_column = exercise_df.columns[0]\n",
    "\n",
    "    for day in days:\n",
    "        # Add rows to diet table\n",
    "        diet_row = [day]\n",
    "        for meal in meals:\n",
    "            recipe = recipes_df.sample(1)\n",
    "            diet_row.append(recipe[recipe_name_column].values[0])\n",
    "        diet_table.add_row(*diet_row)\n",
    "\n",
    "        # Add rows to exercise table\n",
    "        exercise_row = [day]\n",
    "        morning_exercise = exercise_df.sample(1)\n",
    "        evening_exercise = exercise_df.sample(1)\n",
    "        exercise_row.extend([morning_exercise[exercise_name_column].values[0], evening_exercise[exercise_name_column].values[0]])\n",
    "        exercise_table.add_row(*exercise_row)\n",
    "\n",
    "    # Print the diet and exercise tables\n",
    "    console.print(Panel(diet_table, title=\"[bold green]Weekly Diet Plan[/bold green]\", expand=False))\n",
    "    console.print(Panel(exercise_table, title=\"[bold green]Weekly Exercise Plan[/bold green]\", expand=False))\n",
    "    console.print(\"[bold blue]\\nPlease follow the meal and exercise plans to manage PCOS effectively.[/bold blue]\")\n",
    "\n",
    "def pcos_chatbot():\n",
    "    console.print(\"[bold yellow]Welcome to the PCOS detection chatbot![/bold yellow]\")\n",
    "    \n",
    "    while True:\n",
    "        console.print(\"\\n[bold cyan]You can enter your request (e.g., 'predict PCOS', 'get diet and exercise recommendations', or 'quit').[/bold cyan]\")\n",
    "        \n",
    "        user_input = input(\"\\nWhat would you like to do? \").strip().lower()\n",
    "\n",
    "        # Check for PCOS prediction keywords\n",
    "        if \"predict\" in user_input or \"diagnosis\" in user_input:\n",
    "            console.print(\"[bold magenta]\\nPlease answer the following questions for PCOS prediction:[/bold magenta]\")\n",
    "            user_data = []\n",
    "            blood_group_mapping = {\n",
    "                'A+': 11, 'A-': 12,\n",
    "                'B+': 13, 'B-': 14,\n",
    "                'O+': 15, 'O-': 16,\n",
    "                'AB+': 17, 'AB-': 18\n",
    "            }\n",
    "\n",
    "            for feature in X.columns:\n",
    "                if 'blood group' in feature.lower():\n",
    "                    while True:\n",
    "                        blood_group = input(\"Enter your blood group (e.g., A+, O-): \").upper()\n",
    "                        if blood_group in blood_group_mapping:\n",
    "                            value = blood_group_mapping[blood_group]\n",
    "                            break\n",
    "                        else:\n",
    "                            console.print(\"[bold red]Invalid blood group entered. Please try again.[/bold red]\")\n",
    "                else:\n",
    "                    while True:\n",
    "                        try:\n",
    "                            value = float(input(f\"Enter value for {feature} (numeric input expected): \"))\n",
    "                            break\n",
    "                        except ValueError:\n",
    "                            console.print(\"[bold red]Invalid input. Please enter a numeric value.[/bold red]\")\n",
    "                user_data.append(value)\n",
    "\n",
    "            # Make prediction\n",
    "            user_data_scaled = scaler.transform([user_data])\n",
    "            prediction = model.predict(user_data_scaled)\n",
    "\n",
    "            if prediction == 1:\n",
    "                console.print(\"[bold red]\\nThe chatbot predicts that you might have PCOS.[/bold red]\")\n",
    "            else:\n",
    "                console.print(\"[bold green]\\nThe chatbot predicts that you likely do not have PCOS. However, consult a doctor if you have concerns.[/bold green]\")\n",
    "\n",
    "        # Check for recommendation keywords\n",
    "        elif \"recommendation\" in user_input or \"recommend\" in user_input:\n",
    "            console.print(\"[bold magenta]\\nLet's collect more information for a personalized lifestyle plan.[/bold magenta]\")\n",
    "            busy_morning = input(\"Do you usually have a busy morning schedule? (yes/no): \").strip().lower()\n",
    "            work_hours = int(input(\"On average, how many hours do you spend at work or school each day? (0-12): \").strip())\n",
    "            exercise_freq = input(\"How often do you exercise each week? (never/1-2 times/3-5 times/daily): \").strip().lower()\n",
    "            preferred_exercise_type = input(\"Do you prefer high-intensity or low-intensity exercises? (high/low): \").strip().lower()\n",
    "            time_of_day_exercise = input(\"When do you prefer to exercise? (morning/evening/both): \").strip().lower()\n",
    "            \n",
    "            # Use regex to extract the numeric value from the input\n",
    "            while True:\n",
    "                exercise_duration_input = input(\"How much time can you dedicate to each exercise session? (in minutes): \").strip()\n",
    "                match = re.search(r'\\d+', exercise_duration_input)\n",
    "                if match:\n",
    "                    exercise_duration = int(match.group())\n",
    "                    break\n",
    "                else:\n",
    "                    console.print(\"[bold red]Please enter a valid number of minutes.[/bold red]\")\n",
    "\n",
    "            generate_diet_and_exercise_plan()\n",
    "\n",
    "        # Exit the chatbot\n",
    "        elif \"quit\" in user_input:\n",
    "            console.print(\"[bold cyan]\\nThank you for using the PCOS chatbot. Goodbye![/bold cyan]\")\n",
    "            break\n",
    "\n",
    "        else:\n",
    "            console.print(\"[bold red]\\nInvalid input. Please enter a valid command (e.g., 'predict PCOS', 'get diet and exercise recommendations', or 'quit').[/bold red]\")\n",
    "\n",
    "# Run the chatbot\n",
    "pcos_chatbot()\n"
   ]
  },
  {
   "cell_type": "code",
   "execution_count": null,
   "id": "4be6baf0-ff40-4135-a385-2b47acc188a6",
   "metadata": {},
   "outputs": [],
   "source": []
  }
 ],
 "metadata": {
  "kernelspec": {
   "display_name": "Python 3 (ipykernel)",
   "language": "python",
   "name": "python3"
  },
  "language_info": {
   "codemirror_mode": {
    "name": "ipython",
    "version": 3
   },
   "file_extension": ".py",
   "mimetype": "text/x-python",
   "name": "python",
   "nbconvert_exporter": "python",
   "pygments_lexer": "ipython3",
   "version": "3.10.12"
  }
 },
 "nbformat": 4,
 "nbformat_minor": 5
}
